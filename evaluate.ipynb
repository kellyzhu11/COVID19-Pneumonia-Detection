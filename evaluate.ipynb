{
  "nbformat": 4,
  "nbformat_minor": 0,
  "metadata": {
    "accelerator": "GPU",
    "colab": {
      "name": "occlusionTest.ipynb",
      "provenance": []
    },
    "kernelspec": {
      "name": "python3",
      "display_name": "Python 3"
    }
  },
  "cells": [
    {
      "cell_type": "markdown",
      "metadata": {
        "colab_type": "text",
        "id": "vbYOxv-Yty-A"
      },
      "source": [
        "# Model Evaluation"
      ]
    },
    {
      "cell_type": "code",
      "metadata": {
        "colab_type": "code",
        "id": "e8NFqrowZfGy",
        "colab": {}
      },
      "source": [
        "from __future__ import print_function\n",
        "\n",
        "import copy\n",
        "import os.path as osp\n",
        "\n",
        "import sys\n",
        "from pathlib import Path\n",
        "\n",
        "import numpy as np\n",
        "import pandas as pd\n",
        "import os\n",
        "from PIL import Image\n",
        "import cv2\n",
        "import random\n",
        "import pickle\n",
        "\n",
        "from tqdm import tqdm\n",
        "\n",
        "import torch\n",
        "import torch.nn as nn\n",
        "import torch.optim as optim\n",
        "import torch.nn.functional as F\n",
        "from torch.optim import lr_scheduler\n",
        "\n",
        "import torchvision\n",
        "from torchvision import models, transforms\n",
        "from torch.utils.data.dataset import Dataset\n",
        "import matplotlib.pyplot as plt\n",
        "import matplotlib.cm as cm\n",
        "\n",
        "from grad_cam import (\n",
        "    BackPropagation,\n",
        "    Deconvnet,\n",
        "    GradCAM,\n",
        "    GuidedBackPropagation,\n",
        "    occlusion_sensitivity,\n",
        ")\n",
        "\n",
        "from model import (\n",
        "    MyDataset,\n",
        "    EarlyStopping,\n",
        "    Resnet18Dropout,\n",
        ")\n",
        "\n",
        "device = torch.device(\"cuda:0\" if torch.cuda.is_available() else \"cpu\")"
      ],
      "execution_count": 1,
      "outputs": []
    },
    {
      "cell_type": "code",
      "metadata": {
        "id": "uRVfkEUj5tCX",
        "colab_type": "code",
        "colab": {}
      },
      "source": [
        "MODEL = 'Resnet'\n",
        "CLASSES = 4\n",
        "DROPOUT = None\n"
      ],
      "execution_count": 2,
      "outputs": []
    },
    {
      "cell_type": "code",
      "metadata": {
        "id": "WC9dU1gY5tCZ",
        "colab_type": "code",
        "colab": {}
      },
      "source": [
        "def save_gradient(filename, gradient):\n",
        "    gradient = gradient.cpu().numpy().transpose(1, 2, 0)\n",
        "    gradient -= gradient.min()\n",
        "    gradient /= gradient.max()\n",
        "    gradient *= 255.0\n",
        "    cv2.imwrite(filename, np.uint8(gradient))\n",
        "\n",
        "\n",
        "def save_gradcam(filename, gcam, raw_image, paper_cmap=False):\n",
        "    gcam = gcam.cpu().numpy()\n",
        "    cmap = cm.jet_r(gcam)[..., :3] * 255.0\n",
        "    if paper_cmap:\n",
        "        alpha = gcam[..., None]\n",
        "        gcam = alpha * cmap + (1 - alpha) * raw_image\n",
        "    else:\n",
        "        gcam = (cmap.astype(np.float) + raw_image.astype(np.float)) / 2\n",
        "    cv2.imwrite(filename, np.uint8(gcam))\n",
        "\n",
        "\n",
        "def save_sensitivity(filename, maps):\n",
        "    maps = maps.cpu().numpy()\n",
        "    scale = max(maps[maps > 0].max(), -maps[maps <= 0].min())\n",
        "    maps = maps / scale * 0.5\n",
        "    maps += 0.5\n",
        "    maps = cm.bwr_r(maps)[..., :3]\n",
        "    maps = np.uint8(maps * 255.0)\n",
        "    maps = cv2.resize(maps, (224, 224), interpolation=cv2.INTER_NEAREST)\n",
        "    cv2.imwrite(filename, maps)"
      ],
      "execution_count": 3,
      "outputs": []
    },
    {
      "cell_type": "code",
      "metadata": {
        "id": "MtmhvdLH5tCc",
        "colab_type": "code",
        "colab": {}
      },
      "source": [
        "def demo1(images, classes, model, target_layer, arch, topk, output_dir, device):\n",
        "    \"\"\"\n",
        "    Visualize model responses given multiple images\n",
        "    \"\"\"\n",
        "\n",
        "    # Model\n",
        "    model = model\n",
        "    model.to(device)\n",
        "    model.eval()\n",
        "\n",
        "    \"\"\"\n",
        "    Common usage:\n",
        "    1. Wrap your model with visualization classes defined in grad_cam.py\n",
        "    2. Run forward() with images\n",
        "    3. Run backward() with a list of specific classes\n",
        "    4. Run generate() to export results\n",
        "    \"\"\"\n",
        "\n",
        "    # =========================================================================\n",
        "    print(\"Vanilla Backpropagation:\")\n",
        "\n",
        "    bp = BackPropagation(model=model)\n",
        "    probs, ids = bp.forward(images)  # sorted\n",
        "\n",
        "    for i in range(topk):\n",
        "        bp.backward(ids=ids[:, [i]])\n",
        "        gradients = bp.generate()\n",
        "\n",
        "        # Save results as image files\n",
        "        # for j in range(len(images)):\n",
        "        #     print(\"\\t#{}: {} ({:.5f})\".format(j, classes[ids[j, i]], probs[j, i]))\n",
        "\n",
        "        #     save_gradient(\n",
        "        #         filename=osp.join(\n",
        "        #             output_dir,\n",
        "        #             \"{}-Class{}-{}-{}-vanilla-{}.png\".format(MODEL, CLASSES, j, arch, classes[ids[j, i]]),\n",
        "        #         ),\n",
        "        #         gradient=gradients[j],\n",
        "        #     )\n",
        "\n",
        "    # Remove all the hook function in the \"model\"\n",
        "    bp.remove_hook()\n",
        "\n",
        "    # =========================================================================\n",
        "    print(\"Deconvolution:\")\n",
        "\n",
        "    deconv = Deconvnet(model=model)\n",
        "    _ = deconv.forward(images)\n",
        "\n",
        "    for i in range(topk):\n",
        "        deconv.backward(ids=ids[:, [i]])\n",
        "        gradients = deconv.generate()\n",
        "\n",
        "        # for j in range(len(images)):\n",
        "        #     print(\"\\t#{}: {} ({:.5f})\".format(j, classes[ids[j, i]], probs[j, i]))\n",
        "\n",
        "        #     save_gradient(\n",
        "        #         filename=osp.join(\n",
        "        #             output_dir,\n",
        "        #             \"{}-Class{}-{}-{}-deconvnet-{}.png\".format(MODEL, CLASSES, j, arch, classes[ids[j, i]]),\n",
        "        #         ),\n",
        "        #         gradient=gradients[j],\n",
        "        #     )\n",
        "\n",
        "    deconv.remove_hook()\n",
        "\n",
        "    # =========================================================================\n",
        "    print(\"Grad-CAM/Guided Backpropagation/Guided Grad-CAM:\")\n",
        "\n",
        "    gcam = GradCAM(model=model)\n",
        "    _ = gcam.forward(images)\n",
        "\n",
        "    gbp = GuidedBackPropagation(model=model)\n",
        "    _ = gbp.forward(images)\n",
        "\n",
        "    for i in range(topk):\n",
        "        # Guided Backpropagation\n",
        "        gbp.backward(ids=ids[:, [i]])\n",
        "        gradients = gbp.generate()\n",
        "\n",
        "        # Grad-CAM\n",
        "        gcam.backward(ids=ids[:, [i]])\n",
        "        regions = gcam.generate(target_layer=target_layer)\n",
        "\n",
        "        for j in range(len(images)):\n",
        "            print(\"\\t#{}: {} ({:.5f})\".format(j, classes[ids[j, i]], probs[j, i]))\n",
        "            \n",
        "\n",
        "            # Guided Backpropagation\n",
        "            save_gradient(\n",
        "                filename=osp.join(\n",
        "                    output_dir,\n",
        "                    \"{}-Class{}-{}-{}-guided-{}.png\".format(MODEL, CLASSES, j, arch, classes[ids[j, i]]),\n",
        "                ),\n",
        "                gradient=gradients[j],\n",
        "            )\n",
        "\n",
        "            # Grad-CAM\n",
        "            save_gradcam(\n",
        "                filename=osp.join(\n",
        "                    output_dir,\n",
        "                    \"{}-{}-gradcam-{}-{}.png\".format(\n",
        "                        j, arch, target_layer, classes[ids[j, i]]\n",
        "                    ),\n",
        "                ),\n",
        "                gcam=regions[j, 0],\n",
        "                raw_image=raw_images[j],\n",
        "            )\n",
        "\n",
        "            # Guided Grad-CAM\n",
        "            save_gradient(\n",
        "                filename=osp.join(\n",
        "                    output_dir,\n",
        "                    \"{}-Class{}-{}-{}-guided_gradcam-{}-{}.png\".format(\n",
        "                        MODEL, CLASSES, j, arch, target_layer, classes[ids[j, i]]\n",
        "                    ),\n",
        "                ),\n",
        "                gradient=torch.mul(regions, gradients)[j],\n",
        "            )"
      ],
      "execution_count": 4,
      "outputs": []
    },
    {
      "cell_type": "code",
      "metadata": {
        "colab_type": "code",
        "id": "vv6CBbUfbHv5",
        "colab": {}
      },
      "source": [
        "def demo3(images, classes, model, arch, topk, stride, n_batches, output_dir, device):\n",
        "    \"\"\"\n",
        "    Generate occlusion sensitivity maps\n",
        "    \"\"\"\n",
        "\n",
        "    # Model\n",
        "    model = model\n",
        "    model.to(device)\n",
        "    model.eval()\n",
        "\n",
        "    print(\"Occlusion Sensitivity:\")\n",
        "\n",
        "    patche_sizes = [15]\n",
        "\n",
        "    logits = model(images)\n",
        "    probs = F.softmax(logits, dim=1)\n",
        "    probs, ids = probs.sort(dim=1, descending=True)\n",
        "\n",
        "    for i in range(topk):\n",
        "        for p in patche_sizes:\n",
        "            print(\"Patch:\", p)\n",
        "            sensitivity = occlusion_sensitivity(\n",
        "                model, images, ids[:, [i]], patch=p, stride=stride, n_batches=n_batches\n",
        "            )\n",
        "\n",
        "            # Save results as image files\n",
        "            for j in range(len(images)):\n",
        "                print(\"\\t#{}: {} ({:.5f})\".format(j, classes[ids[j, i]], probs[j, i]))\n",
        "\n",
        "                save_sensitivity(\n",
        "                    filename=osp.join(\n",
        "                        output_dir,\n",
        "                        \"{}-Class{}-{}-{}-sensitivity-{}-{}.png\".format(\n",
        "                            MODEL, CLASSES, j, arch, p, classes[ids[j, i]]\n",
        "                        ),\n",
        "                    ),\n",
        "                    maps=sensitivity[j],\n",
        "                )"
      ],
      "execution_count": 5,
      "outputs": []
    },
    {
      "cell_type": "markdown",
      "metadata": {
        "id": "end9L3eL5tCg",
        "colab_type": "text"
      },
      "source": [
        "# Run"
      ]
    },
    {
      "cell_type": "code",
      "metadata": {
        "id": "VP7qxNRW5tCh",
        "colab_type": "code",
        "colab": {}
      },
      "source": [
        "if 'Resnet' in MODEL:\n",
        "    IMAGE_SIZE = 224\n",
        "else:\n",
        "    IMAGE_SIZE = 227\n",
        "\n",
        "if CLASSES == 2:\n",
        "    categories = [\"COVID-19\", \"non-COVID-19\"]\n",
        "else:\n",
        "    categories = [\"COVID-19\", \"Viral\", \"Bacterial\", \"Normal\"]"
      ],
      "execution_count": 6,
      "outputs": []
    },
    {
      "cell_type": "code",
      "metadata": {
        "id": "g5NJO9Pl5tCj",
        "colab_type": "code",
        "colab": {},
        "tags": []
      },
      "source": [
        "try:\n",
        "    file_model = open('./Results/model'+str(MODEL)+'Dropout'+str(DROPOUT)+'Class'+str(CLASSES)+'.pkl', \"rb\")\n",
        "except IOError:\n",
        "    print(\"File not accessible\")\n",
        "  \n",
        "all_results = pickle.load(file_model)"
      ],
      "execution_count": 7,
      "outputs": []
    },
    {
      "cell_type": "code",
      "metadata": {
        "id": "7hcx-ERyckTK",
        "colab_type": "code",
        "colab": {}
      },
      "source": [
        "from sklearn.metrics import classification_report, confusion_matrix, roc_curve, roc_auc_score, auc\n",
        "\n",
        "def evaluate_model(model, dataloaders, criterion):\n",
        "    # best model\n",
        "    running_loss = 0.0\n",
        "    running_corrects = 0\n",
        "\n",
        "    true_labels = []\n",
        "    probabilities = []\n",
        "    predictions = []\n",
        "\n",
        "    # Iterate over data.\n",
        "    for inputs, labels in dataloaders['test']:\n",
        "        inputs = inputs.to(device)\n",
        "        labels = labels.to(device)\n",
        "\n",
        "        # forward\n",
        "        # track history if only in train\n",
        "        with torch.set_grad_enabled(False):\n",
        "            outputs = model(inputs)\n",
        "            probs = F.softmax(outputs, dim=1)\n",
        "            _, preds = torch.max(outputs, 1)\n",
        "\n",
        "            probabilities.extend(list(probs.cpu().numpy()))\n",
        "            predictions.extend(list(preds.cpu().numpy()))\n",
        "            true_labels.extend(list(labels.cpu().numpy()))\n",
        "\n",
        "            loss = criterion(outputs, labels)\n",
        "\n",
        "        # statistics\n",
        "        running_loss += loss.item() * inputs.size(0)\n",
        "        running_corrects += torch.sum(preds == labels.data)\n",
        "    \n",
        "    probabilities = np.array(probabilities)\n",
        "    epoch_loss = running_loss / dataset_sizes['test']\n",
        "    epoch_acc = running_corrects.double() / dataset_sizes['test']\n",
        "\n",
        "    print('{} Loss: {:.4f} Acc: {:.4f}'.format('test', epoch_loss, epoch_acc))\n",
        "\n",
        "    print(confusion_matrix(true_labels, predictions))\n",
        "    print(classification_report(true_labels, predictions))\n",
        "\n",
        "    return true_labels, probabilities, predictions, confusion_matrix\n"
      ],
      "execution_count": 8,
      "outputs": []
    },
    {
      "cell_type": "code",
      "metadata": {
        "id": "zvc0HAutdNPY",
        "colab_type": "code",
        "colab": {},
        "tags": []
      },
      "source": [
        "try:\n",
        "    file = open('./Dataset/data'+str(IMAGE_SIZE)+'Class'+str(CLASSES)+'.pkl', \"rb\")\n",
        "except IOError:\n",
        "    print(\"File not accessible\")\n",
        "\n",
        "data = pickle.load(file)\n",
        "if CLASSES == 2:\n",
        "    categories = [\"COVID-19\", \"non-COVID-19\"]\n",
        "else:\n",
        "    categories = [\"COVID-19\", \"Viral\", \"Bacterial\", \"Normal\"]\n",
        "\n",
        "train_images, train_labels = data['train image'], data['train label']\n",
        "test_image, test_label = data['test image'], data['test label']"
      ],
      "execution_count": 9,
      "outputs": []
    },
    {
      "cell_type": "code",
      "metadata": {
        "id": "xLB4xUQ4c4Iz",
        "colab_type": "code",
        "colab": {}
      },
      "source": [
        "device = torch.device(\"cuda:0\" if torch.cuda.is_available() else \"cpu\")\n",
        "\n",
        "data_transforms = {\n",
        "    'train': transforms.Compose([\n",
        "        # transforms.RandomResizedCrop(224),\n",
        "        transforms.RandomHorizontalFlip(),\n",
        "        transforms.RandomAffine(15, translate=(0.1,0.1), scale=(0.9, 1.1)),\n",
        "        transforms.ToTensor(),\n",
        "        transforms.Normalize([0.485, 0.456, 0.406], [0.229, 0.224, 0.225])\n",
        "    ]),\n",
        "    'valid': transforms.Compose([\n",
        "        # transforms.Resize(256),\n",
        "        # transforms.CenterCrop(224),\n",
        "        transforms.ToTensor(),\n",
        "        transforms.Normalize([0.485, 0.456, 0.406], [0.229, 0.224, 0.225])\n",
        "    ]),\n",
        "    'test': transforms.Compose([\n",
        "        # transforms.Resize(256),\n",
        "        # transforms.CenterCrop(224),\n",
        "        transforms.ToTensor(),\n",
        "        transforms.Normalize([0.485, 0.456, 0.406], [0.229, 0.224, 0.225])\n",
        "    ]),\n",
        "}\n",
        "def data_process(train_image, train_label, test_image, test_label, current_phase = 'valid'):\n",
        "# Data augmentation and normalization for training\n",
        "# Just normalization for validation\n",
        "\n",
        "    trainset = MyDataset(train_image, train_label, data_transforms['train'])\n",
        "    trainloader = torch.utils.data.DataLoader(trainset, batch_size=256, shuffle=True)\n",
        "\n",
        "    testset = MyDataset(test_image, test_label, data_transforms[current_phase])\n",
        "    testloader = torch.utils.data.DataLoader(testset, batch_size=256, shuffle=False)\n",
        "\n",
        "    dataloaders = {'train': trainloader, current_phase: testloader}\n",
        "\n",
        "    dataset_sizes = {'train': len(trainset), current_phase: len(testset)}\n",
        "\n",
        "    return dataloaders, dataset_sizes\n",
        "dataloaders, dataset_sizes = data_process(train_images, train_labels, test_image, test_label, current_phase='test')\n"
      ],
      "execution_count": 10,
      "outputs": []
    },
    {
      "cell_type": "code",
      "metadata": {
        "id": "kp-dBMyucmFt",
        "colab_type": "code",
        "colab": {
          "base_uri": "https://localhost:8080/",
          "height": 280
        },
        "outputId": "0c02b197-4ed1-49fc-ae8c-f0d389b5ae67",
        "tags": []
      },
      "source": [
        "true_labels, probabilities, predictions, confusion_matrix = evaluate_model(all_results['model'], dataloaders, criterion = nn.CrossEntropyLoss())"
      ],
      "execution_count": 11,
      "outputs": [
        {
          "output_type": "stream",
          "name": "stdout",
          "text": "test Loss: 0.2742 Acc: 0.9240\n[[ 60   0   0   0]\n [  0 121  24   3]\n [  0   5 235   2]\n [  2   9   7 216]]\n              precision    recall  f1-score   support\n\n           0       0.97      1.00      0.98        60\n           1       0.90      0.82      0.86       148\n           2       0.88      0.97      0.93       242\n           3       0.98      0.92      0.95       234\n\n   micro avg       0.92      0.92      0.92       684\n   macro avg       0.93      0.93      0.93       684\nweighted avg       0.93      0.92      0.92       684\n\n"
        }
      ]
    },
    {
      "cell_type": "code",
      "metadata": {
        "id": "4fFRmcUAdb06",
        "colab_type": "code",
        "colab": {}
      },
      "source": [
        "import seaborn as sns"
      ],
      "execution_count": 12,
      "outputs": []
    },
    {
      "cell_type": "code",
      "metadata": {
        "id": "hYejEC1EcZLW",
        "colab_type": "code",
        "colab": {
          "base_uri": "https://localhost:8080/",
          "height": 457
        },
        "outputId": "cf600688-a922-4e13-c076-a4e46af8a2ef"
      },
      "source": [
        "if CLASSES == 4:\n",
        "    plt.figure(figsize=(7,7))\n",
        "    sns.set(font_scale=1.4)\n",
        "    ax = sns.heatmap(confusion_matrix(true_labels, predictions), cmap = 'Greens', annot= True,\\\n",
        "                fmt = 'g', square = True, xticklabels=['COVID-19', 'Viral', 'Bacterial', 'Normal'],\\\n",
        "                yticklabels=['COVID-19', 'Viral', 'Bacterial', 'Normal'])\n",
        "    ax.set(xlabel = 'Predicted labels', ylabel = 'True labels')\n",
        "else:\n",
        "    plt.figure(figsize=(7,7))\n",
        "    sns.set(font_scale=1.5)\n",
        "    ax = sns.heatmap(confusion_matrix1, cmap = 'Greens', annot= True, annot_kws={\"size\": 20},\\\n",
        "                fmt = 'g', square = True, xticklabels=['COVID-19', 'Non-COVID-19'],\\\n",
        "                yticklabels=['COVID-19', 'Non-COVID-19'], cbar = True)\n",
        "    ax.set(xlabel = 'Predicted labels', ylabel = 'True labels')"
      ],
      "execution_count": 13,
      "outputs": [
        {
          "output_type": "display_data",
          "data": {
            "text/plain": "<Figure size 504x504 with 2 Axes>",
            "image/svg+xml": "<?xml version=\"1.0\" encoding=\"utf-8\" standalone=\"no\"?>\n<!DOCTYPE svg PUBLIC \"-//W3C//DTD SVG 1.1//EN\"\n  \"http://www.w3.org/Graphics/SVG/1.1/DTD/svg11.dtd\">\n<!-- Created with matplotlib (https://matplotlib.org/) -->\n<svg height=\"403.847906pt\" version=\"1.1\" viewBox=\"0 0 443.575438 403.847906\" width=\"443.575438pt\" xmlns=\"http://www.w3.org/2000/svg\" xmlns:xlink=\"http://www.w3.org/1999/xlink\">\n <metadata>\n  <rdf:RDF xmlns:cc=\"http://creativecommons.org/ns#\" xmlns:dc=\"http://purl.org/dc/elements/1.1/\" xmlns:rdf=\"http://www.w3.org/1999/02/22-rdf-syntax-ns#\">\n   <cc:Work>\n    <dc:type rdf:resource=\"http://purl.org/dc/dcmitype/StillImage\"/>\n    <dc:date>2020-07-28T23:36:54.893987</dc:date>\n    <dc:format>image/svg+xml</dc:format>\n    <dc:creator>\n     <cc:Agent>\n      <dc:title>Matplotlib v3.3.0, https://matplotlib.org/</dc:title>\n     </cc:Agent>\n    </dc:creator>\n   </cc:Work>\n  </rdf:RDF>\n </metadata>\n <defs>\n  <style type=\"text/css\">*{stroke-linecap:butt;stroke-linejoin:round;}</style>\n </defs>\n <g id=\"figure_1\">\n  <g id=\"patch_1\">\n   <path d=\"M 0 403.847906 \nL 443.575438 403.847906 \nL 443.575438 0 \nL 0 0 \nz\n\" style=\"fill:none;\"/>\n  </g>\n  <g id=\"axes_1\">\n   <g id=\"patch_2\">\n    <path d=\"M 50.147906 353.7 \nL 362.627906 353.7 \nL 362.627906 41.22 \nL 50.147906 41.22 \nz\n\" style=\"fill:#eaeaf2;\"/>\n   </g>\n   <g id=\"matplotlib.axis_1\">\n    <g id=\"xtick_1\">\n     <g id=\"text_1\">\n      <!-- COVID-19 -->\n      <g style=\"fill:#262626;\" transform=\"translate(53.694063 374.223031)scale(0.154 -0.154)\">\n       <defs>\n        <path d=\"M 58.796875 25.09375 \nL 68.265625 22.703125 \nQ 65.28125 11.03125 57.546875 4.90625 \nQ 49.8125 -1.21875 38.625 -1.21875 \nQ 27.046875 -1.21875 19.796875 3.484375 \nQ 12.546875 8.203125 8.765625 17.140625 \nQ 4.984375 26.078125 4.984375 36.328125 \nQ 4.984375 47.515625 9.25 55.828125 \nQ 13.53125 64.15625 21.40625 68.46875 \nQ 29.296875 72.796875 38.765625 72.796875 \nQ 49.515625 72.796875 56.828125 67.328125 \nQ 64.15625 61.859375 67.046875 51.953125 \nL 57.71875 49.75 \nQ 55.21875 57.5625 50.484375 61.125 \nQ 45.75 64.703125 38.578125 64.703125 \nQ 30.328125 64.703125 24.78125 60.734375 \nQ 19.234375 56.78125 16.984375 50.109375 \nQ 14.75 43.453125 14.75 36.375 \nQ 14.75 27.25 17.40625 20.4375 \nQ 20.0625 13.625 25.671875 10.25 \nQ 31.296875 6.890625 37.84375 6.890625 \nQ 45.796875 6.890625 51.3125 11.46875 \nQ 56.84375 16.0625 58.796875 25.09375 \nz\n\" id=\"ArialMT-67\"/>\n        <path d=\"M 4.828125 34.859375 \nQ 4.828125 52.6875 14.390625 62.765625 \nQ 23.96875 72.859375 39.109375 72.859375 \nQ 49.03125 72.859375 56.984375 68.109375 \nQ 64.9375 63.375 69.109375 54.90625 \nQ 73.296875 46.4375 73.296875 35.6875 \nQ 73.296875 24.8125 68.890625 16.21875 \nQ 64.5 7.625 56.4375 3.203125 \nQ 48.390625 -1.21875 39.0625 -1.21875 \nQ 28.953125 -1.21875 20.984375 3.65625 \nQ 13.03125 8.546875 8.921875 16.984375 \nQ 4.828125 25.4375 4.828125 34.859375 \nz\nM 14.59375 34.71875 \nQ 14.59375 21.78125 21.546875 14.328125 \nQ 28.515625 6.890625 39.015625 6.890625 \nQ 49.703125 6.890625 56.609375 14.40625 \nQ 63.53125 21.921875 63.53125 35.75 \nQ 63.53125 44.484375 60.578125 51 \nQ 57.625 57.515625 51.921875 61.109375 \nQ 46.234375 64.703125 39.15625 64.703125 \nQ 29.109375 64.703125 21.84375 57.78125 \nQ 14.59375 50.875 14.59375 34.71875 \nz\n\" id=\"ArialMT-79\"/>\n        <path d=\"M 28.171875 0 \nL 0.4375 71.578125 \nL 10.6875 71.578125 \nL 29.296875 19.578125 \nQ 31.546875 13.328125 33.0625 7.859375 \nQ 34.71875 13.71875 36.921875 19.578125 \nL 56.25 71.578125 \nL 65.921875 71.578125 \nL 37.890625 0 \nz\n\" id=\"ArialMT-86\"/>\n        <path d=\"M 9.328125 0 \nL 9.328125 71.578125 \nL 18.796875 71.578125 \nL 18.796875 0 \nz\n\" id=\"ArialMT-73\"/>\n        <path d=\"M 7.71875 0 \nL 7.71875 71.578125 \nL 32.375 71.578125 \nQ 40.71875 71.578125 45.125 70.5625 \nQ 51.265625 69.140625 55.609375 65.4375 \nQ 61.28125 60.640625 64.078125 53.1875 \nQ 66.890625 45.75 66.890625 36.1875 \nQ 66.890625 28.03125 64.984375 21.734375 \nQ 63.09375 15.4375 60.109375 11.296875 \nQ 57.125 7.171875 53.578125 4.796875 \nQ 50.046875 2.4375 45.046875 1.21875 \nQ 40.046875 0 33.546875 0 \nz\nM 17.1875 8.453125 \nL 32.46875 8.453125 \nQ 39.546875 8.453125 43.578125 9.765625 \nQ 47.609375 11.078125 50 13.484375 \nQ 53.375 16.84375 55.25 22.53125 \nQ 57.125 28.21875 57.125 36.328125 \nQ 57.125 47.5625 53.4375 53.59375 \nQ 49.75 59.625 44.484375 61.671875 \nQ 40.671875 63.140625 32.234375 63.140625 \nL 17.1875 63.140625 \nz\n\" id=\"ArialMT-68\"/>\n        <path d=\"M 3.171875 21.484375 \nL 3.171875 30.328125 \nL 30.171875 30.328125 \nL 30.171875 21.484375 \nz\n\" id=\"ArialMT-45\"/>\n        <path d=\"M 37.25 0 \nL 28.46875 0 \nL 28.46875 56 \nQ 25.296875 52.984375 20.140625 49.953125 \nQ 14.984375 46.921875 10.890625 45.40625 \nL 10.890625 53.90625 \nQ 18.265625 57.375 23.78125 62.296875 \nQ 29.296875 67.234375 31.59375 71.875 \nL 37.25 71.875 \nz\n\" id=\"ArialMT-49\"/>\n        <path d=\"M 5.46875 16.546875 \nL 13.921875 17.328125 \nQ 14.984375 11.375 18.015625 8.6875 \nQ 21.046875 6 25.78125 6 \nQ 29.828125 6 32.875 7.859375 \nQ 35.9375 9.71875 37.890625 12.8125 \nQ 39.84375 15.921875 41.15625 21.1875 \nQ 42.484375 26.46875 42.484375 31.9375 \nQ 42.484375 32.515625 42.4375 33.6875 \nQ 39.796875 29.5 35.234375 26.875 \nQ 30.671875 24.265625 25.34375 24.265625 \nQ 16.453125 24.265625 10.296875 30.703125 \nQ 4.15625 37.15625 4.15625 47.703125 \nQ 4.15625 58.59375 10.578125 65.234375 \nQ 17 71.875 26.65625 71.875 \nQ 33.640625 71.875 39.421875 68.109375 \nQ 45.21875 64.359375 48.21875 57.390625 \nQ 51.21875 50.4375 51.21875 37.25 \nQ 51.21875 23.53125 48.234375 15.40625 \nQ 45.265625 7.28125 39.375 3.03125 \nQ 33.5 -1.21875 25.59375 -1.21875 \nQ 17.1875 -1.21875 11.859375 3.4375 \nQ 6.546875 8.109375 5.46875 16.546875 \nz\nM 41.453125 48.140625 \nQ 41.453125 55.71875 37.421875 60.15625 \nQ 33.40625 64.59375 27.734375 64.59375 \nQ 21.875 64.59375 17.53125 59.8125 \nQ 13.1875 55.03125 13.1875 47.40625 \nQ 13.1875 40.578125 17.3125 36.296875 \nQ 21.4375 32.03125 27.484375 32.03125 \nQ 33.59375 32.03125 37.515625 36.296875 \nQ 41.453125 40.578125 41.453125 48.140625 \nz\n\" id=\"ArialMT-57\"/>\n       </defs>\n       <use xlink:href=\"#ArialMT-67\"/>\n       <use x=\"72.216797\" xlink:href=\"#ArialMT-79\"/>\n       <use x=\"150\" xlink:href=\"#ArialMT-86\"/>\n       <use x=\"216.699219\" xlink:href=\"#ArialMT-73\"/>\n       <use x=\"244.482422\" xlink:href=\"#ArialMT-68\"/>\n       <use x=\"316.699219\" xlink:href=\"#ArialMT-45\"/>\n       <use x=\"350\" xlink:href=\"#ArialMT-49\"/>\n       <use x=\"405.615234\" xlink:href=\"#ArialMT-57\"/>\n      </g>\n     </g>\n    </g>\n    <g id=\"xtick_2\">\n     <g id=\"text_2\">\n      <!-- Viral -->\n      <g style=\"fill:#262626;\" transform=\"translate(152.059047 374.223031)scale(0.154 -0.154)\">\n       <defs>\n        <path d=\"M 6.640625 61.46875 \nL 6.640625 71.578125 \nL 15.4375 71.578125 \nL 15.4375 61.46875 \nz\nM 6.640625 0 \nL 6.640625 51.859375 \nL 15.4375 51.859375 \nL 15.4375 0 \nz\n\" id=\"ArialMT-105\"/>\n        <path d=\"M 6.5 0 \nL 6.5 51.859375 \nL 14.40625 51.859375 \nL 14.40625 44 \nQ 17.4375 49.515625 20 51.265625 \nQ 22.5625 53.03125 25.640625 53.03125 \nQ 30.078125 53.03125 34.671875 50.203125 \nL 31.640625 42.046875 \nQ 28.421875 43.953125 25.203125 43.953125 \nQ 22.3125 43.953125 20.015625 42.21875 \nQ 17.71875 40.484375 16.75 37.40625 \nQ 15.28125 32.71875 15.28125 27.15625 \nL 15.28125 0 \nz\n\" id=\"ArialMT-114\"/>\n        <path d=\"M 40.4375 6.390625 \nQ 35.546875 2.25 31.03125 0.53125 \nQ 26.515625 -1.171875 21.34375 -1.171875 \nQ 12.796875 -1.171875 8.203125 3 \nQ 3.609375 7.171875 3.609375 13.671875 \nQ 3.609375 17.484375 5.34375 20.625 \nQ 7.078125 23.78125 9.890625 25.6875 \nQ 12.703125 27.59375 16.21875 28.5625 \nQ 18.796875 29.25 24.03125 29.890625 \nQ 34.671875 31.15625 39.703125 32.90625 \nQ 39.75 34.71875 39.75 35.203125 \nQ 39.75 40.578125 37.25 42.78125 \nQ 33.890625 45.75 27.25 45.75 \nQ 21.046875 45.75 18.09375 43.578125 \nQ 15.140625 41.40625 13.71875 35.890625 \nL 5.125 37.0625 \nQ 6.296875 42.578125 8.984375 45.96875 \nQ 11.671875 49.359375 16.75 51.1875 \nQ 21.828125 53.03125 28.515625 53.03125 \nQ 35.15625 53.03125 39.296875 51.46875 \nQ 43.453125 49.90625 45.40625 47.53125 \nQ 47.359375 45.171875 48.140625 41.546875 \nQ 48.578125 39.3125 48.578125 33.453125 \nL 48.578125 21.734375 \nQ 48.578125 9.46875 49.140625 6.21875 \nQ 49.703125 2.984375 51.375 0 \nL 42.1875 0 \nQ 40.828125 2.734375 40.4375 6.390625 \nz\nM 39.703125 26.03125 \nQ 34.90625 24.078125 25.34375 22.703125 \nQ 19.921875 21.921875 17.671875 20.9375 \nQ 15.4375 19.96875 14.203125 18.09375 \nQ 12.984375 16.21875 12.984375 13.921875 \nQ 12.984375 10.40625 15.640625 8.0625 \nQ 18.3125 5.71875 23.4375 5.71875 \nQ 28.515625 5.71875 32.46875 7.9375 \nQ 36.421875 10.15625 38.28125 14.015625 \nQ 39.703125 17 39.703125 22.796875 \nz\n\" id=\"ArialMT-97\"/>\n        <path d=\"M 6.390625 0 \nL 6.390625 71.578125 \nL 15.1875 71.578125 \nL 15.1875 0 \nz\n\" id=\"ArialMT-108\"/>\n       </defs>\n       <use xlink:href=\"#ArialMT-86\"/>\n       <use x=\"64.949219\" xlink:href=\"#ArialMT-105\"/>\n       <use x=\"87.166016\" xlink:href=\"#ArialMT-114\"/>\n       <use x=\"120.466797\" xlink:href=\"#ArialMT-97\"/>\n       <use x=\"176.082031\" xlink:href=\"#ArialMT-108\"/>\n      </g>\n     </g>\n    </g>\n    <g id=\"xtick_3\">\n     <g id=\"text_3\">\n      <!-- Bacterial -->\n      <g style=\"fill:#262626;\" transform=\"translate(215.491297 374.223031)scale(0.154 -0.154)\">\n       <defs>\n        <path d=\"M 7.328125 0 \nL 7.328125 71.578125 \nL 34.1875 71.578125 \nQ 42.390625 71.578125 47.34375 69.40625 \nQ 52.296875 67.234375 55.09375 62.71875 \nQ 57.90625 58.203125 57.90625 53.265625 \nQ 57.90625 48.6875 55.421875 44.625 \nQ 52.9375 40.578125 47.90625 38.09375 \nQ 54.390625 36.1875 57.875 31.59375 \nQ 61.375 27 61.375 20.75 \nQ 61.375 15.71875 59.25 11.390625 \nQ 57.125 7.078125 54 4.734375 \nQ 50.875 2.390625 46.15625 1.1875 \nQ 41.453125 0 34.625 0 \nz\nM 16.796875 41.5 \nL 32.28125 41.5 \nQ 38.578125 41.5 41.3125 42.328125 \nQ 44.921875 43.40625 46.75 45.890625 \nQ 48.578125 48.390625 48.578125 52.15625 \nQ 48.578125 55.71875 46.875 58.421875 \nQ 45.171875 61.140625 41.984375 62.140625 \nQ 38.8125 63.140625 31.109375 63.140625 \nL 16.796875 63.140625 \nz\nM 16.796875 8.453125 \nL 34.625 8.453125 \nQ 39.203125 8.453125 41.0625 8.796875 \nQ 44.34375 9.375 46.53125 10.734375 \nQ 48.734375 12.109375 50.140625 14.71875 \nQ 51.5625 17.328125 51.5625 20.75 \nQ 51.5625 24.75 49.515625 27.703125 \nQ 47.46875 30.671875 43.828125 31.859375 \nQ 40.1875 33.0625 33.34375 33.0625 \nL 16.796875 33.0625 \nz\n\" id=\"ArialMT-66\"/>\n        <path d=\"M 40.4375 19 \nL 49.078125 17.875 \nQ 47.65625 8.9375 41.8125 3.875 \nQ 35.984375 -1.171875 27.484375 -1.171875 \nQ 16.84375 -1.171875 10.375 5.78125 \nQ 3.90625 12.75 3.90625 25.734375 \nQ 3.90625 34.125 6.6875 40.421875 \nQ 9.46875 46.734375 15.15625 49.875 \nQ 20.84375 53.03125 27.546875 53.03125 \nQ 35.984375 53.03125 41.359375 48.75 \nQ 46.734375 44.484375 48.25 36.625 \nL 39.703125 35.296875 \nQ 38.484375 40.53125 35.375 43.15625 \nQ 32.28125 45.796875 27.875 45.796875 \nQ 21.234375 45.796875 17.078125 41.03125 \nQ 12.9375 36.28125 12.9375 25.984375 \nQ 12.9375 15.53125 16.9375 10.796875 \nQ 20.953125 6.0625 27.390625 6.0625 \nQ 32.5625 6.0625 36.03125 9.234375 \nQ 39.5 12.40625 40.4375 19 \nz\n\" id=\"ArialMT-99\"/>\n        <path d=\"M 25.78125 7.859375 \nL 27.046875 0.09375 \nQ 23.34375 -0.6875 20.40625 -0.6875 \nQ 15.625 -0.6875 12.984375 0.828125 \nQ 10.359375 2.34375 9.28125 4.8125 \nQ 8.203125 7.28125 8.203125 15.1875 \nL 8.203125 45.015625 \nL 1.765625 45.015625 \nL 1.765625 51.859375 \nL 8.203125 51.859375 \nL 8.203125 64.703125 \nL 16.9375 69.96875 \nL 16.9375 51.859375 \nL 25.78125 51.859375 \nL 25.78125 45.015625 \nL 16.9375 45.015625 \nL 16.9375 14.703125 \nQ 16.9375 10.9375 17.40625 9.859375 \nQ 17.875 8.796875 18.921875 8.15625 \nQ 19.96875 7.515625 21.921875 7.515625 \nQ 23.390625 7.515625 25.78125 7.859375 \nz\n\" id=\"ArialMT-116\"/>\n        <path d=\"M 42.09375 16.703125 \nL 51.171875 15.578125 \nQ 49.03125 7.625 43.21875 3.21875 \nQ 37.40625 -1.171875 28.375 -1.171875 \nQ 17 -1.171875 10.328125 5.828125 \nQ 3.65625 12.84375 3.65625 25.484375 \nQ 3.65625 38.578125 10.390625 45.796875 \nQ 17.140625 53.03125 27.875 53.03125 \nQ 38.28125 53.03125 44.875 45.953125 \nQ 51.46875 38.875 51.46875 26.03125 \nQ 51.46875 25.25 51.421875 23.6875 \nL 12.75 23.6875 \nQ 13.234375 15.140625 17.578125 10.59375 \nQ 21.921875 6.0625 28.421875 6.0625 \nQ 33.25 6.0625 36.671875 8.59375 \nQ 40.09375 11.140625 42.09375 16.703125 \nz\nM 13.234375 30.90625 \nL 42.1875 30.90625 \nQ 41.609375 37.453125 38.875 40.71875 \nQ 34.671875 45.796875 27.984375 45.796875 \nQ 21.921875 45.796875 17.796875 41.75 \nQ 13.671875 37.703125 13.234375 30.90625 \nz\n\" id=\"ArialMT-101\"/>\n       </defs>\n       <use xlink:href=\"#ArialMT-66\"/>\n       <use x=\"66.699219\" xlink:href=\"#ArialMT-97\"/>\n       <use x=\"122.314453\" xlink:href=\"#ArialMT-99\"/>\n       <use x=\"172.314453\" xlink:href=\"#ArialMT-116\"/>\n       <use x=\"200.097656\" xlink:href=\"#ArialMT-101\"/>\n       <use x=\"255.712891\" xlink:href=\"#ArialMT-114\"/>\n       <use x=\"289.013672\" xlink:href=\"#ArialMT-105\"/>\n       <use x=\"311.230469\" xlink:href=\"#ArialMT-97\"/>\n       <use x=\"366.845703\" xlink:href=\"#ArialMT-108\"/>\n      </g>\n     </g>\n    </g>\n    <g id=\"xtick_4\">\n     <g id=\"text_4\">\n      <!-- Normal -->\n      <g style=\"fill:#262626;\" transform=\"translate(298.754656 374.223031)scale(0.154 -0.154)\">\n       <defs>\n        <path d=\"M 7.625 0 \nL 7.625 71.578125 \nL 17.328125 71.578125 \nL 54.9375 15.375 \nL 54.9375 71.578125 \nL 64.015625 71.578125 \nL 64.015625 0 \nL 54.296875 0 \nL 16.703125 56.25 \nL 16.703125 0 \nz\n\" id=\"ArialMT-78\"/>\n        <path d=\"M 3.328125 25.921875 \nQ 3.328125 40.328125 11.328125 47.265625 \nQ 18.015625 53.03125 27.640625 53.03125 \nQ 38.328125 53.03125 45.109375 46.015625 \nQ 51.90625 39.015625 51.90625 26.65625 \nQ 51.90625 16.65625 48.90625 10.90625 \nQ 45.90625 5.171875 40.15625 2 \nQ 34.421875 -1.171875 27.640625 -1.171875 \nQ 16.75 -1.171875 10.03125 5.8125 \nQ 3.328125 12.796875 3.328125 25.921875 \nz\nM 12.359375 25.921875 \nQ 12.359375 15.96875 16.703125 11.015625 \nQ 21.046875 6.0625 27.640625 6.0625 \nQ 34.1875 6.0625 38.53125 11.03125 \nQ 42.875 16.015625 42.875 26.21875 \nQ 42.875 35.84375 38.5 40.796875 \nQ 34.125 45.75 27.640625 45.75 \nQ 21.046875 45.75 16.703125 40.8125 \nQ 12.359375 35.890625 12.359375 25.921875 \nz\n\" id=\"ArialMT-111\"/>\n        <path d=\"M 6.59375 0 \nL 6.59375 51.859375 \nL 14.453125 51.859375 \nL 14.453125 44.578125 \nQ 16.890625 48.390625 20.9375 50.703125 \nQ 25 53.03125 30.171875 53.03125 \nQ 35.9375 53.03125 39.625 50.640625 \nQ 43.3125 48.25 44.828125 43.953125 \nQ 50.984375 53.03125 60.84375 53.03125 \nQ 68.5625 53.03125 72.703125 48.75 \nQ 76.859375 44.484375 76.859375 35.59375 \nL 76.859375 0 \nL 68.109375 0 \nL 68.109375 32.671875 \nQ 68.109375 37.9375 67.25 40.25 \nQ 66.40625 42.578125 64.15625 43.984375 \nQ 61.921875 45.40625 58.890625 45.40625 \nQ 53.421875 45.40625 49.796875 41.765625 \nQ 46.1875 38.140625 46.1875 30.125 \nL 46.1875 0 \nL 37.40625 0 \nL 37.40625 33.6875 \nQ 37.40625 39.546875 35.25 42.46875 \nQ 33.109375 45.40625 28.21875 45.40625 \nQ 24.515625 45.40625 21.359375 43.453125 \nQ 18.21875 41.5 16.796875 37.734375 \nQ 15.375 33.984375 15.375 26.90625 \nL 15.375 0 \nz\n\" id=\"ArialMT-109\"/>\n       </defs>\n       <use xlink:href=\"#ArialMT-78\"/>\n       <use x=\"72.216797\" xlink:href=\"#ArialMT-111\"/>\n       <use x=\"127.832031\" xlink:href=\"#ArialMT-114\"/>\n       <use x=\"161.132812\" xlink:href=\"#ArialMT-109\"/>\n       <use x=\"244.433594\" xlink:href=\"#ArialMT-97\"/>\n       <use x=\"300.048828\" xlink:href=\"#ArialMT-108\"/>\n      </g>\n     </g>\n    </g>\n    <g id=\"text_5\">\n     <!-- Predicted labels -->\n     <g style=\"fill:#262626;\" transform=\"translate(146.623219 393.308906)scale(0.168 -0.168)\">\n      <defs>\n       <path d=\"M 7.71875 0 \nL 7.71875 71.578125 \nL 34.71875 71.578125 \nQ 41.84375 71.578125 45.609375 70.90625 \nQ 50.875 70.015625 54.4375 67.546875 \nQ 58.015625 65.09375 60.1875 60.640625 \nQ 62.359375 56.203125 62.359375 50.875 \nQ 62.359375 41.75 56.546875 35.421875 \nQ 50.734375 29.109375 35.546875 29.109375 \nL 17.1875 29.109375 \nL 17.1875 0 \nz\nM 17.1875 37.546875 \nL 35.6875 37.546875 \nQ 44.875 37.546875 48.734375 40.96875 \nQ 52.59375 44.390625 52.59375 50.59375 \nQ 52.59375 55.078125 50.3125 58.265625 \nQ 48.046875 61.46875 44.34375 62.5 \nQ 41.9375 63.140625 35.5 63.140625 \nL 17.1875 63.140625 \nz\n\" id=\"ArialMT-80\"/>\n       <path d=\"M 40.234375 0 \nL 40.234375 6.546875 \nQ 35.296875 -1.171875 25.734375 -1.171875 \nQ 19.53125 -1.171875 14.328125 2.25 \nQ 9.125 5.671875 6.265625 11.796875 \nQ 3.421875 17.921875 3.421875 25.875 \nQ 3.421875 33.640625 6 39.96875 \nQ 8.59375 46.296875 13.765625 49.65625 \nQ 18.953125 53.03125 25.34375 53.03125 \nQ 30.03125 53.03125 33.6875 51.046875 \nQ 37.359375 49.078125 39.65625 45.90625 \nL 39.65625 71.578125 \nL 48.390625 71.578125 \nL 48.390625 0 \nz\nM 12.453125 25.875 \nQ 12.453125 15.921875 16.640625 10.984375 \nQ 20.84375 6.0625 26.5625 6.0625 \nQ 32.328125 6.0625 36.34375 10.765625 \nQ 40.375 15.484375 40.375 25.140625 \nQ 40.375 35.796875 36.265625 40.765625 \nQ 32.171875 45.75 26.171875 45.75 \nQ 20.3125 45.75 16.375 40.96875 \nQ 12.453125 36.1875 12.453125 25.875 \nz\n\" id=\"ArialMT-100\"/>\n       <path id=\"ArialMT-32\"/>\n       <path d=\"M 14.703125 0 \nL 6.546875 0 \nL 6.546875 71.578125 \nL 15.328125 71.578125 \nL 15.328125 46.046875 \nQ 20.90625 53.03125 29.546875 53.03125 \nQ 34.328125 53.03125 38.59375 51.09375 \nQ 42.875 49.171875 45.625 45.671875 \nQ 48.390625 42.1875 49.953125 37.25 \nQ 51.515625 32.328125 51.515625 26.703125 \nQ 51.515625 13.375 44.921875 6.09375 \nQ 38.328125 -1.171875 29.109375 -1.171875 \nQ 19.921875 -1.171875 14.703125 6.5 \nz\nM 14.59375 26.3125 \nQ 14.59375 17 17.140625 12.84375 \nQ 21.296875 6.0625 28.375 6.0625 \nQ 34.125 6.0625 38.328125 11.0625 \nQ 42.53125 16.0625 42.53125 25.984375 \nQ 42.53125 36.140625 38.5 40.96875 \nQ 34.46875 45.796875 28.765625 45.796875 \nQ 23 45.796875 18.796875 40.796875 \nQ 14.59375 35.796875 14.59375 26.3125 \nz\n\" id=\"ArialMT-98\"/>\n       <path d=\"M 3.078125 15.484375 \nL 11.765625 16.84375 \nQ 12.5 11.625 15.84375 8.84375 \nQ 19.1875 6.0625 25.203125 6.0625 \nQ 31.25 6.0625 34.171875 8.515625 \nQ 37.109375 10.984375 37.109375 14.3125 \nQ 37.109375 17.28125 34.515625 19 \nQ 32.71875 20.171875 25.53125 21.96875 \nQ 15.875 24.421875 12.140625 26.203125 \nQ 8.40625 27.984375 6.46875 31.125 \nQ 4.546875 34.28125 4.546875 38.09375 \nQ 4.546875 41.546875 6.125 44.5 \nQ 7.71875 47.46875 10.453125 49.421875 \nQ 12.5 50.921875 16.03125 51.96875 \nQ 19.578125 53.03125 23.640625 53.03125 \nQ 29.734375 53.03125 34.34375 51.265625 \nQ 38.96875 49.515625 41.15625 46.5 \nQ 43.359375 43.5 44.1875 38.484375 \nL 35.59375 37.3125 \nQ 35.015625 41.3125 32.203125 43.546875 \nQ 29.390625 45.796875 24.265625 45.796875 \nQ 18.21875 45.796875 15.625 43.796875 \nQ 13.03125 41.796875 13.03125 39.109375 \nQ 13.03125 37.40625 14.109375 36.03125 \nQ 15.1875 34.625 17.484375 33.6875 \nQ 18.796875 33.203125 25.25 31.453125 \nQ 34.578125 28.953125 38.25 27.359375 \nQ 41.9375 25.78125 44.03125 22.75 \nQ 46.140625 19.734375 46.140625 15.234375 \nQ 46.140625 10.84375 43.578125 6.953125 \nQ 41.015625 3.078125 36.171875 0.953125 \nQ 31.34375 -1.171875 25.25 -1.171875 \nQ 15.140625 -1.171875 9.84375 3.03125 \nQ 4.546875 7.234375 3.078125 15.484375 \nz\n\" id=\"ArialMT-115\"/>\n      </defs>\n      <use xlink:href=\"#ArialMT-80\"/>\n      <use x=\"66.699219\" xlink:href=\"#ArialMT-114\"/>\n      <use x=\"100\" xlink:href=\"#ArialMT-101\"/>\n      <use x=\"155.615234\" xlink:href=\"#ArialMT-100\"/>\n      <use x=\"211.230469\" xlink:href=\"#ArialMT-105\"/>\n      <use x=\"233.447266\" xlink:href=\"#ArialMT-99\"/>\n      <use x=\"283.447266\" xlink:href=\"#ArialMT-116\"/>\n      <use x=\"311.230469\" xlink:href=\"#ArialMT-101\"/>\n      <use x=\"366.845703\" xlink:href=\"#ArialMT-100\"/>\n      <use x=\"422.460938\" xlink:href=\"#ArialMT-32\"/>\n      <use x=\"450.244141\" xlink:href=\"#ArialMT-108\"/>\n      <use x=\"472.460938\" xlink:href=\"#ArialMT-97\"/>\n      <use x=\"528.076172\" xlink:href=\"#ArialMT-98\"/>\n      <use x=\"583.691406\" xlink:href=\"#ArialMT-101\"/>\n      <use x=\"639.306641\" xlink:href=\"#ArialMT-108\"/>\n      <use x=\"661.523438\" xlink:href=\"#ArialMT-115\"/>\n     </g>\n    </g>\n   </g>\n   <g id=\"matplotlib.axis_2\">\n    <g id=\"ytick_1\">\n     <g id=\"text_6\">\n      <!-- COVID-19 -->\n      <g style=\"fill:#262626;\" transform=\"translate(37.587156 145.796172)rotate(-90)scale(0.154 -0.154)\">\n       <use xlink:href=\"#ArialMT-67\"/>\n       <use x=\"72.216797\" xlink:href=\"#ArialMT-79\"/>\n       <use x=\"150\" xlink:href=\"#ArialMT-86\"/>\n       <use x=\"216.699219\" xlink:href=\"#ArialMT-73\"/>\n       <use x=\"244.482422\" xlink:href=\"#ArialMT-68\"/>\n       <use x=\"316.699219\" xlink:href=\"#ArialMT-45\"/>\n       <use x=\"350\" xlink:href=\"#ArialMT-49\"/>\n       <use x=\"405.615234\" xlink:href=\"#ArialMT-57\"/>\n      </g>\n     </g>\n    </g>\n    <g id=\"ytick_2\">\n     <g id=\"text_7\">\n      <!-- Viral -->\n      <g style=\"fill:#262626;\" transform=\"translate(37.587156 183.426203)rotate(-90)scale(0.154 -0.154)\">\n       <use xlink:href=\"#ArialMT-86\"/>\n       <use x=\"64.949219\" xlink:href=\"#ArialMT-105\"/>\n       <use x=\"87.166016\" xlink:href=\"#ArialMT-114\"/>\n       <use x=\"120.466797\" xlink:href=\"#ArialMT-97\"/>\n       <use x=\"176.082031\" xlink:href=\"#ArialMT-108\"/>\n      </g>\n     </g>\n    </g>\n    <g id=\"ytick_3\">\n     <g id=\"text_8\">\n      <!-- Bacterial -->\n      <g style=\"fill:#262626;\" transform=\"translate(37.587156 290.921703)rotate(-90)scale(0.154 -0.154)\">\n       <use xlink:href=\"#ArialMT-66\"/>\n       <use x=\"66.699219\" xlink:href=\"#ArialMT-97\"/>\n       <use x=\"122.314453\" xlink:href=\"#ArialMT-99\"/>\n       <use x=\"172.314453\" xlink:href=\"#ArialMT-116\"/>\n       <use x=\"200.097656\" xlink:href=\"#ArialMT-101\"/>\n       <use x=\"255.712891\" xlink:href=\"#ArialMT-114\"/>\n       <use x=\"289.013672\" xlink:href=\"#ArialMT-105\"/>\n       <use x=\"311.230469\" xlink:href=\"#ArialMT-97\"/>\n       <use x=\"366.845703\" xlink:href=\"#ArialMT-108\"/>\n      </g>\n     </g>\n    </g>\n    <g id=\"ytick_4\">\n     <g id=\"text_9\">\n      <!-- Normal -->\n      <g style=\"fill:#262626;\" transform=\"translate(37.587156 358.754984)rotate(-90)scale(0.154 -0.154)\">\n       <use xlink:href=\"#ArialMT-78\"/>\n       <use x=\"72.216797\" xlink:href=\"#ArialMT-111\"/>\n       <use x=\"127.832031\" xlink:href=\"#ArialMT-114\"/>\n       <use x=\"161.132812\" xlink:href=\"#ArialMT-109\"/>\n       <use x=\"244.433594\" xlink:href=\"#ArialMT-97\"/>\n       <use x=\"300.048828\" xlink:href=\"#ArialMT-108\"/>\n      </g>\n     </g>\n    </g>\n    <g id=\"text_10\">\n     <!-- True labels -->\n     <g style=\"fill:#262626;\" transform=\"translate(19.225125 238.694812)rotate(-90)scale(0.168 -0.168)\">\n      <defs>\n       <path d=\"M 25.921875 0 \nL 25.921875 63.140625 \nL 2.34375 63.140625 \nL 2.34375 71.578125 \nL 59.078125 71.578125 \nL 59.078125 63.140625 \nL 35.40625 63.140625 \nL 35.40625 0 \nz\n\" id=\"ArialMT-84\"/>\n       <path d=\"M 40.578125 0 \nL 40.578125 7.625 \nQ 34.515625 -1.171875 24.125 -1.171875 \nQ 19.53125 -1.171875 15.546875 0.578125 \nQ 11.578125 2.34375 9.640625 5 \nQ 7.71875 7.671875 6.9375 11.53125 \nQ 6.390625 14.109375 6.390625 19.734375 \nL 6.390625 51.859375 \nL 15.1875 51.859375 \nL 15.1875 23.09375 \nQ 15.1875 16.21875 15.71875 13.8125 \nQ 16.546875 10.359375 19.234375 8.375 \nQ 21.921875 6.390625 25.875 6.390625 \nQ 29.828125 6.390625 33.296875 8.421875 \nQ 36.765625 10.453125 38.203125 13.9375 \nQ 39.65625 17.4375 39.65625 24.078125 \nL 39.65625 51.859375 \nL 48.4375 51.859375 \nL 48.4375 0 \nz\n\" id=\"ArialMT-117\"/>\n      </defs>\n      <use xlink:href=\"#ArialMT-84\"/>\n      <use x=\"57.333984\" xlink:href=\"#ArialMT-114\"/>\n      <use x=\"90.634766\" xlink:href=\"#ArialMT-117\"/>\n      <use x=\"146.25\" xlink:href=\"#ArialMT-101\"/>\n      <use x=\"201.865234\" xlink:href=\"#ArialMT-32\"/>\n      <use x=\"229.648438\" xlink:href=\"#ArialMT-108\"/>\n      <use x=\"251.865234\" xlink:href=\"#ArialMT-97\"/>\n      <use x=\"307.480469\" xlink:href=\"#ArialMT-98\"/>\n      <use x=\"363.095703\" xlink:href=\"#ArialMT-101\"/>\n      <use x=\"418.710938\" xlink:href=\"#ArialMT-108\"/>\n      <use x=\"440.927734\" xlink:href=\"#ArialMT-115\"/>\n     </g>\n    </g>\n   </g>\n   <g id=\"QuadMesh_1\">\n    <path clip-path=\"url(#pdbef8e7540)\" d=\"M 50.147906 41.22 \nL 128.267906 41.22 \nL 128.267906 119.34 \nL 50.147906 119.34 \nL 50.147906 41.22 \n\" style=\"fill:#c6e8bf;\"/>\n    <path clip-path=\"url(#pdbef8e7540)\" d=\"M 128.267906 41.22 \nL 206.387906 41.22 \nL 206.387906 119.34 \nL 128.267906 119.34 \nL 128.267906 41.22 \n\" style=\"fill:#f7fcf5;\"/>\n    <path clip-path=\"url(#pdbef8e7540)\" d=\"M 206.387906 41.22 \nL 284.507906 41.22 \nL 284.507906 119.34 \nL 206.387906 119.34 \nL 206.387906 41.22 \n\" style=\"fill:#f7fcf5;\"/>\n    <path clip-path=\"url(#pdbef8e7540)\" d=\"M 284.507906 41.22 \nL 362.627906 41.22 \nL 362.627906 119.34 \nL 284.507906 119.34 \nL 284.507906 41.22 \n\" style=\"fill:#f7fcf5;\"/>\n    <path clip-path=\"url(#pdbef8e7540)\" d=\"M 50.147906 119.34 \nL 128.267906 119.34 \nL 128.267906 197.46 \nL 50.147906 197.46 \nL 50.147906 119.34 \n\" style=\"fill:#f7fcf5;\"/>\n    <path clip-path=\"url(#pdbef8e7540)\" d=\"M 128.267906 119.34 \nL 206.387906 119.34 \nL 206.387906 197.46 \nL 128.267906 197.46 \nL 128.267906 119.34 \n\" style=\"fill:#6ec173;\"/>\n    <path clip-path=\"url(#pdbef8e7540)\" d=\"M 206.387906 119.34 \nL 284.507906 119.34 \nL 284.507906 197.46 \nL 206.387906 197.46 \nL 206.387906 119.34 \n\" style=\"fill:#e8f6e4;\"/>\n    <path clip-path=\"url(#pdbef8e7540)\" d=\"M 284.507906 119.34 \nL 362.627906 119.34 \nL 362.627906 197.46 \nL 284.507906 197.46 \nL 284.507906 119.34 \n\" style=\"fill:#f5fbf3;\"/>\n    <path clip-path=\"url(#pdbef8e7540)\" d=\"M 50.147906 197.46 \nL 128.267906 197.46 \nL 128.267906 275.58 \nL 50.147906 275.58 \nL 50.147906 197.46 \n\" style=\"fill:#f7fcf5;\"/>\n    <path clip-path=\"url(#pdbef8e7540)\" d=\"M 128.267906 197.46 \nL 206.387906 197.46 \nL 206.387906 275.58 \nL 128.267906 275.58 \nL 128.267906 197.46 \n\" style=\"fill:#f4fbf2;\"/>\n    <path clip-path=\"url(#pdbef8e7540)\" d=\"M 206.387906 197.46 \nL 284.507906 197.46 \nL 284.507906 275.58 \nL 206.387906 275.58 \nL 206.387906 197.46 \n\" style=\"fill:#00441b;\"/>\n    <path clip-path=\"url(#pdbef8e7540)\" d=\"M 284.507906 197.46 \nL 362.627906 197.46 \nL 362.627906 275.58 \nL 284.507906 275.58 \nL 284.507906 197.46 \n\" style=\"fill:#f6fcf4;\"/>\n    <path clip-path=\"url(#pdbef8e7540)\" d=\"M 50.147906 275.58 \nL 128.267906 275.58 \nL 128.267906 353.7 \nL 50.147906 353.7 \nL 50.147906 275.58 \n\" style=\"fill:#f6fcf4;\"/>\n    <path clip-path=\"url(#pdbef8e7540)\" d=\"M 128.267906 275.58 \nL 206.387906 275.58 \nL 206.387906 353.7 \nL 128.267906 353.7 \nL 128.267906 275.58 \n\" style=\"fill:#f2faef;\"/>\n    <path clip-path=\"url(#pdbef8e7540)\" d=\"M 206.387906 275.58 \nL 284.507906 275.58 \nL 284.507906 353.7 \nL 206.387906 353.7 \nL 206.387906 275.58 \n\" style=\"fill:#f3faf0;\"/>\n    <path clip-path=\"url(#pdbef8e7540)\" d=\"M 284.507906 275.58 \nL 362.627906 275.58 \nL 362.627906 353.7 \nL 284.507906 353.7 \nL 284.507906 275.58 \n\" style=\"fill:#005e26;\"/>\n   </g>\n   <g id=\"text_11\">\n    <!-- 60 -->\n    <g style=\"fill:#262626;\" transform=\"translate(79.865531 84.623062)scale(0.168 -0.168)\">\n     <defs>\n      <path d=\"M 49.75 54.046875 \nL 41.015625 53.375 \nQ 39.84375 58.546875 37.703125 60.890625 \nQ 34.125 64.65625 28.90625 64.65625 \nQ 24.703125 64.65625 21.53125 62.3125 \nQ 17.390625 59.28125 14.984375 53.46875 \nQ 12.59375 47.65625 12.5 36.921875 \nQ 15.671875 41.75 20.265625 44.09375 \nQ 24.859375 46.4375 29.890625 46.4375 \nQ 38.671875 46.4375 44.84375 39.96875 \nQ 51.03125 33.5 51.03125 23.25 \nQ 51.03125 16.5 48.125 10.71875 \nQ 45.21875 4.9375 40.140625 1.859375 \nQ 35.0625 -1.21875 28.609375 -1.21875 \nQ 17.625 -1.21875 10.6875 6.859375 \nQ 3.765625 14.9375 3.765625 33.5 \nQ 3.765625 54.25 11.421875 63.671875 \nQ 18.109375 71.875 29.4375 71.875 \nQ 37.890625 71.875 43.28125 67.140625 \nQ 48.6875 62.40625 49.75 54.046875 \nz\nM 13.875 23.1875 \nQ 13.875 18.65625 15.796875 14.5 \nQ 17.71875 10.359375 21.1875 8.171875 \nQ 24.65625 6 28.46875 6 \nQ 34.03125 6 38.03125 10.484375 \nQ 42.046875 14.984375 42.046875 22.703125 \nQ 42.046875 30.125 38.078125 34.390625 \nQ 34.125 38.671875 28.125 38.671875 \nQ 22.171875 38.671875 18.015625 34.390625 \nQ 13.875 30.125 13.875 23.1875 \nz\n\" id=\"ArialMT-54\"/>\n      <path d=\"M 4.15625 35.296875 \nQ 4.15625 48 6.765625 55.734375 \nQ 9.375 63.484375 14.515625 67.671875 \nQ 19.671875 71.875 27.484375 71.875 \nQ 33.25 71.875 37.59375 69.546875 \nQ 41.9375 67.234375 44.765625 62.859375 \nQ 47.609375 58.5 49.21875 52.21875 \nQ 50.828125 45.953125 50.828125 35.296875 \nQ 50.828125 22.703125 48.234375 14.96875 \nQ 45.65625 7.234375 40.5 3 \nQ 35.359375 -1.21875 27.484375 -1.21875 \nQ 17.140625 -1.21875 11.234375 6.203125 \nQ 4.15625 15.140625 4.15625 35.296875 \nz\nM 13.1875 35.296875 \nQ 13.1875 17.671875 17.3125 11.828125 \nQ 21.4375 6 27.484375 6 \nQ 33.546875 6 37.671875 11.859375 \nQ 41.796875 17.71875 41.796875 35.296875 \nQ 41.796875 52.984375 37.671875 58.78125 \nQ 33.546875 64.59375 27.390625 64.59375 \nQ 21.34375 64.59375 17.71875 59.46875 \nQ 13.1875 52.9375 13.1875 35.296875 \nz\n\" id=\"ArialMT-48\"/>\n     </defs>\n     <use xlink:href=\"#ArialMT-54\"/>\n     <use x=\"55.615234\" xlink:href=\"#ArialMT-48\"/>\n    </g>\n   </g>\n   <g id=\"text_12\">\n    <!-- 0 -->\n    <g style=\"fill:#262626;\" transform=\"translate(162.656719 84.623062)scale(0.168 -0.168)\">\n     <use xlink:href=\"#ArialMT-48\"/>\n    </g>\n   </g>\n   <g id=\"text_13\">\n    <!-- 0 -->\n    <g style=\"fill:#262626;\" transform=\"translate(240.776719 84.623062)scale(0.168 -0.168)\">\n     <use xlink:href=\"#ArialMT-48\"/>\n    </g>\n   </g>\n   <g id=\"text_14\">\n    <!-- 0 -->\n    <g style=\"fill:#262626;\" transform=\"translate(318.896719 84.623062)scale(0.168 -0.168)\">\n     <use xlink:href=\"#ArialMT-48\"/>\n    </g>\n   </g>\n   <g id=\"text_15\">\n    <!-- 0 -->\n    <g style=\"fill:#262626;\" transform=\"translate(84.536719 162.743062)scale(0.168 -0.168)\">\n     <use xlink:href=\"#ArialMT-48\"/>\n    </g>\n   </g>\n   <g id=\"text_16\">\n    <!-- 121 -->\n    <g style=\"fill:#262626;\" transform=\"translate(153.314344 162.743062)scale(0.168 -0.168)\">\n     <defs>\n      <path d=\"M 50.34375 8.453125 \nL 50.34375 0 \nL 3.03125 0 \nQ 2.9375 3.171875 4.046875 6.109375 \nQ 5.859375 10.9375 9.828125 15.625 \nQ 13.8125 20.3125 21.34375 26.46875 \nQ 33.015625 36.03125 37.109375 41.625 \nQ 41.21875 47.21875 41.21875 52.203125 \nQ 41.21875 57.421875 37.46875 61 \nQ 33.734375 64.59375 27.734375 64.59375 \nQ 21.390625 64.59375 17.578125 60.78125 \nQ 13.765625 56.984375 13.71875 50.25 \nL 4.6875 51.171875 \nQ 5.609375 61.28125 11.65625 66.578125 \nQ 17.71875 71.875 27.9375 71.875 \nQ 38.234375 71.875 44.234375 66.15625 \nQ 50.25 60.453125 50.25 52 \nQ 50.25 47.703125 48.484375 43.546875 \nQ 46.734375 39.40625 42.65625 34.8125 \nQ 38.578125 30.21875 29.109375 22.21875 \nQ 21.1875 15.578125 18.9375 13.203125 \nQ 16.703125 10.84375 15.234375 8.453125 \nz\n\" id=\"ArialMT-50\"/>\n     </defs>\n     <use xlink:href=\"#ArialMT-49\"/>\n     <use x=\"55.615234\" xlink:href=\"#ArialMT-50\"/>\n     <use x=\"111.230469\" xlink:href=\"#ArialMT-49\"/>\n    </g>\n   </g>\n   <g id=\"text_17\">\n    <!-- 24 -->\n    <g style=\"fill:#262626;\" transform=\"translate(236.105531 162.743062)scale(0.168 -0.168)\">\n     <defs>\n      <path d=\"M 32.328125 0 \nL 32.328125 17.140625 \nL 1.265625 17.140625 \nL 1.265625 25.203125 \nL 33.9375 71.578125 \nL 41.109375 71.578125 \nL 41.109375 25.203125 \nL 50.78125 25.203125 \nL 50.78125 17.140625 \nL 41.109375 17.140625 \nL 41.109375 0 \nz\nM 32.328125 25.203125 \nL 32.328125 57.46875 \nL 9.90625 25.203125 \nz\n\" id=\"ArialMT-52\"/>\n     </defs>\n     <use xlink:href=\"#ArialMT-50\"/>\n     <use x=\"55.615234\" xlink:href=\"#ArialMT-52\"/>\n    </g>\n   </g>\n   <g id=\"text_18\">\n    <!-- 3 -->\n    <g style=\"fill:#262626;\" transform=\"translate(318.896719 162.743062)scale(0.168 -0.168)\">\n     <defs>\n      <path d=\"M 4.203125 18.890625 \nL 12.984375 20.0625 \nQ 14.5 12.59375 18.140625 9.296875 \nQ 21.78125 6 27 6 \nQ 33.203125 6 37.46875 10.296875 \nQ 41.75 14.59375 41.75 20.953125 \nQ 41.75 27 37.796875 30.921875 \nQ 33.84375 34.859375 27.734375 34.859375 \nQ 25.25 34.859375 21.53125 33.890625 \nL 22.515625 41.609375 \nQ 23.390625 41.5 23.921875 41.5 \nQ 29.546875 41.5 34.03125 44.421875 \nQ 38.53125 47.359375 38.53125 53.46875 \nQ 38.53125 58.296875 35.25 61.46875 \nQ 31.984375 64.65625 26.8125 64.65625 \nQ 21.6875 64.65625 18.265625 61.421875 \nQ 14.84375 58.203125 13.875 51.765625 \nL 5.078125 53.328125 \nQ 6.6875 62.15625 12.390625 67.015625 \nQ 18.109375 71.875 26.609375 71.875 \nQ 32.46875 71.875 37.390625 69.359375 \nQ 42.328125 66.84375 44.9375 62.5 \nQ 47.5625 58.15625 47.5625 53.265625 \nQ 47.5625 48.640625 45.0625 44.828125 \nQ 42.578125 41.015625 37.703125 38.765625 \nQ 44.046875 37.3125 47.5625 32.6875 \nQ 51.078125 28.078125 51.078125 21.140625 \nQ 51.078125 11.765625 44.234375 5.25 \nQ 37.40625 -1.265625 26.953125 -1.265625 \nQ 17.53125 -1.265625 11.296875 4.34375 \nQ 5.078125 9.96875 4.203125 18.890625 \nz\n\" id=\"ArialMT-51\"/>\n     </defs>\n     <use xlink:href=\"#ArialMT-51\"/>\n    </g>\n   </g>\n   <g id=\"text_19\">\n    <!-- 0 -->\n    <g style=\"fill:#262626;\" transform=\"translate(84.536719 240.863062)scale(0.168 -0.168)\">\n     <use xlink:href=\"#ArialMT-48\"/>\n    </g>\n   </g>\n   <g id=\"text_20\">\n    <!-- 5 -->\n    <g style=\"fill:#262626;\" transform=\"translate(162.656719 240.863062)scale(0.168 -0.168)\">\n     <defs>\n      <path d=\"M 4.15625 18.75 \nL 13.375 19.53125 \nQ 14.40625 12.796875 18.140625 9.390625 \nQ 21.875 6 27.15625 6 \nQ 33.5 6 37.890625 10.78125 \nQ 42.28125 15.578125 42.28125 23.484375 \nQ 42.28125 31 38.0625 35.34375 \nQ 33.84375 39.703125 27 39.703125 \nQ 22.75 39.703125 19.328125 37.765625 \nQ 15.921875 35.84375 13.96875 32.765625 \nL 5.71875 33.84375 \nL 12.640625 70.609375 \nL 48.25 70.609375 \nL 48.25 62.203125 \nL 19.671875 62.203125 \nL 15.828125 42.96875 \nQ 22.265625 47.46875 29.34375 47.46875 \nQ 38.71875 47.46875 45.15625 40.96875 \nQ 51.609375 34.46875 51.609375 24.265625 \nQ 51.609375 14.546875 45.953125 7.46875 \nQ 39.0625 -1.21875 27.15625 -1.21875 \nQ 17.390625 -1.21875 11.203125 4.25 \nQ 5.03125 9.71875 4.15625 18.75 \nz\n\" id=\"ArialMT-53\"/>\n     </defs>\n     <use xlink:href=\"#ArialMT-53\"/>\n    </g>\n   </g>\n   <g id=\"text_21\">\n    <!-- 235 -->\n    <g style=\"fill:#ffffff;\" transform=\"translate(231.434344 240.863062)scale(0.168 -0.168)\">\n     <use xlink:href=\"#ArialMT-50\"/>\n     <use x=\"55.615234\" xlink:href=\"#ArialMT-51\"/>\n     <use x=\"111.230469\" xlink:href=\"#ArialMT-53\"/>\n    </g>\n   </g>\n   <g id=\"text_22\">\n    <!-- 2 -->\n    <g style=\"fill:#262626;\" transform=\"translate(318.896719 240.863062)scale(0.168 -0.168)\">\n     <use xlink:href=\"#ArialMT-50\"/>\n    </g>\n   </g>\n   <g id=\"text_23\">\n    <!-- 2 -->\n    <g style=\"fill:#262626;\" transform=\"translate(84.536719 318.983062)scale(0.168 -0.168)\">\n     <use xlink:href=\"#ArialMT-50\"/>\n    </g>\n   </g>\n   <g id=\"text_24\">\n    <!-- 9 -->\n    <g style=\"fill:#262626;\" transform=\"translate(162.656719 318.983062)scale(0.168 -0.168)\">\n     <use xlink:href=\"#ArialMT-57\"/>\n    </g>\n   </g>\n   <g id=\"text_25\">\n    <!-- 7 -->\n    <g style=\"fill:#262626;\" transform=\"translate(240.776719 318.983062)scale(0.168 -0.168)\">\n     <defs>\n      <path d=\"M 4.734375 62.203125 \nL 4.734375 70.65625 \nL 51.078125 70.65625 \nL 51.078125 63.8125 \nQ 44.234375 56.546875 37.515625 44.484375 \nQ 30.8125 32.421875 27.15625 19.671875 \nQ 24.515625 10.6875 23.78125 0 \nL 14.75 0 \nQ 14.890625 8.453125 18.0625 20.40625 \nQ 21.234375 32.375 27.171875 43.484375 \nQ 33.109375 54.59375 39.796875 62.203125 \nz\n\" id=\"ArialMT-55\"/>\n     </defs>\n     <use xlink:href=\"#ArialMT-55\"/>\n    </g>\n   </g>\n   <g id=\"text_26\">\n    <!-- 216 -->\n    <g style=\"fill:#ffffff;\" transform=\"translate(309.554344 318.983062)scale(0.168 -0.168)\">\n     <use xlink:href=\"#ArialMT-50\"/>\n     <use x=\"55.615234\" xlink:href=\"#ArialMT-49\"/>\n     <use x=\"111.230469\" xlink:href=\"#ArialMT-54\"/>\n    </g>\n   </g>\n  </g>\n  <g id=\"axes_2\">\n   <g id=\"patch_3\">\n    <path clip-path=\"url(#pba7243a97f)\" d=\"M 382.157906 387.72 \nL 382.157906 386.233594 \nL 382.157906 8.686406 \nL 382.157906 7.2 \nL 401.183906 7.2 \nL 401.183906 8.686406 \nL 401.183906 386.233594 \nL 401.183906 387.72 \nz\n\" style=\"fill:#eaeaf2;stroke:#eaeaf2;stroke-linejoin:miter;stroke-width:0.01;\"/>\n   </g>\n   <g id=\"matplotlib.axis_3\"/>\n   <g id=\"matplotlib.axis_4\">\n    <g id=\"ytick_5\">\n     <g id=\"line2d_1\">\n      <defs>\n       <path d=\"M 0 0 \nL 6 0 \n\" id=\"me5c96d5674\" style=\"stroke:#262626;stroke-width:1.25;\"/>\n      </defs>\n      <g>\n       <use style=\"fill:#262626;stroke:#262626;stroke-width:1.25;\" x=\"401.183906\" xlink:href=\"#me5c96d5674\" y=\"387.72\"/>\n      </g>\n     </g>\n     <g id=\"text_27\">\n      <!-- 0 -->\n      <g style=\"fill:#262626;\" transform=\"translate(410.683906 393.231516)scale(0.154 -0.154)\">\n       <use xlink:href=\"#ArialMT-48\"/>\n      </g>\n     </g>\n    </g>\n    <g id=\"ytick_6\">\n     <g id=\"line2d_2\">\n      <g>\n       <use style=\"fill:#262626;stroke:#262626;stroke-width:1.25;\" x=\"401.183906\" xlink:href=\"#me5c96d5674\" y=\"306.758298\"/>\n      </g>\n     </g>\n     <g id=\"text_28\">\n      <!-- 50 -->\n      <g style=\"fill:#262626;\" transform=\"translate(410.683906 312.269813)scale(0.154 -0.154)\">\n       <use xlink:href=\"#ArialMT-53\"/>\n       <use x=\"55.615234\" xlink:href=\"#ArialMT-48\"/>\n      </g>\n     </g>\n    </g>\n    <g id=\"ytick_7\">\n     <g id=\"line2d_3\">\n      <g>\n       <use style=\"fill:#262626;stroke:#262626;stroke-width:1.25;\" x=\"401.183906\" xlink:href=\"#me5c96d5674\" y=\"225.796596\"/>\n      </g>\n     </g>\n     <g id=\"text_29\">\n      <!-- 100 -->\n      <g style=\"fill:#262626;\" transform=\"translate(410.683906 231.308111)scale(0.154 -0.154)\">\n       <use xlink:href=\"#ArialMT-49\"/>\n       <use x=\"55.615234\" xlink:href=\"#ArialMT-48\"/>\n       <use x=\"111.230469\" xlink:href=\"#ArialMT-48\"/>\n      </g>\n     </g>\n    </g>\n    <g id=\"ytick_8\">\n     <g id=\"line2d_4\">\n      <g>\n       <use style=\"fill:#262626;stroke:#262626;stroke-width:1.25;\" x=\"401.183906\" xlink:href=\"#me5c96d5674\" y=\"144.834894\"/>\n      </g>\n     </g>\n     <g id=\"text_30\">\n      <!-- 150 -->\n      <g style=\"fill:#262626;\" transform=\"translate(410.683906 150.346409)scale(0.154 -0.154)\">\n       <use xlink:href=\"#ArialMT-49\"/>\n       <use x=\"55.615234\" xlink:href=\"#ArialMT-53\"/>\n       <use x=\"111.230469\" xlink:href=\"#ArialMT-48\"/>\n      </g>\n     </g>\n    </g>\n    <g id=\"ytick_9\">\n     <g id=\"line2d_5\">\n      <g>\n       <use style=\"fill:#262626;stroke:#262626;stroke-width:1.25;\" x=\"401.183906\" xlink:href=\"#me5c96d5674\" y=\"63.873191\"/>\n      </g>\n     </g>\n     <g id=\"text_31\">\n      <!-- 200 -->\n      <g style=\"fill:#262626;\" transform=\"translate(410.683906 69.384707)scale(0.154 -0.154)\">\n       <use xlink:href=\"#ArialMT-50\"/>\n       <use x=\"55.615234\" xlink:href=\"#ArialMT-48\"/>\n       <use x=\"111.230469\" xlink:href=\"#ArialMT-48\"/>\n      </g>\n     </g>\n    </g>\n   </g>\n   <image height=\"381\" id=\"image8fcb4f1a88\" transform=\"scale(1 -1)translate(0 -381)\" width=\"19\" x=\"382\" xlink:href=\"data:image/png;base64,\niVBORw0KGgoAAAANSUhEUgAAABMAAAF9CAYAAADm2VNSAAABzUlEQVR4nO2bUWrFMAwE/Yrvf9vyforTM8gMZGBXB1gyXkmW4+Tz/ft9FhT7WZjW+sGUaLH9PFLMvUADNiflxtS6SRpAp4Z0zVroF2It9HGEFDqNKX2ykK7hdbOpMQ9zp8Wk3JhaN7uhXIiJ3Szmm2LePcCMmZG0MRuKNGm7ZvNoP5tHDGZr81WxJu089srAbG1eiGkxzzqcmBczxE0U84gxm7RjMS3mycBs0s7FzC1ImrRononPAWTXEGOKzwEpmGDbbtKOQ4xpdjNi1giZHMkpSF2bZKfVutkB+UJMi3nQTqutTbYFed3MSFp4Cso4b3rdtCates0yZo2MybG701xMjBnSgthNmAszptZN+IzOhRkzw01v0qI/aIgxM9xsC5qLpbQgTKq1eRMpmGSepawZjIlpmTHJT63FmKCWG7NuDkONGeKmFxMV82LWzbmYFZP9eUqLGeJma/NGzItZN+diXsy6ORfLWLOMC2Y0NUJeLIW4acYMcbNvXN4UE19ipbip/cwuJGm7obwr1hY0jxQ3wd5ovkVc4D0uumbil77gF/1qzJQKIMW8mKibYNcwY9bNaYT0s27C86ibN2JezI5UF2KYlhozwk30yf4BpmFSavrar60AAAAASUVORK5CYII=\" y=\"-6\"/>\n   <g id=\"patch_4\">\n    <path d=\"M 382.157906 387.72 \nL 382.157906 386.233594 \nL 382.157906 8.686406 \nL 382.157906 7.2 \nL 401.183906 7.2 \nL 401.183906 8.686406 \nL 401.183906 386.233594 \nL 401.183906 387.72 \nz\n\" style=\"fill:none;\"/>\n   </g>\n  </g>\n </g>\n <defs>\n  <clipPath id=\"pdbef8e7540\">\n   <rect height=\"312.48\" width=\"312.48\" x=\"50.147906\" y=\"41.22\"/>\n  </clipPath>\n  <clipPath id=\"pba7243a97f\">\n   <rect height=\"380.52\" width=\"19.026\" x=\"382.157906\" y=\"7.2\"/>\n  </clipPath>\n </defs>\n</svg>\n",
            "image/png": "[encoded data removed]"
          },
          "metadata": {
            "needs_background": "light"
          }
        }
      ]
    },
    {
      "cell_type": "code",
      "metadata": {
        "id": "5WUisUD-5tCl",
        "colab_type": "code",
        "colab": {}
      },
      "source": [
        "model = all_results['model']\n",
        "for params in model.parameters():\n",
        "    params.requires_grad = True"
      ],
      "execution_count": 14,
      "outputs": []
    },
    {
      "cell_type": "code",
      "metadata": {
        "id": "MneJKsHE5tCr",
        "colab_type": "code",
        "colab": {}
      },
      "source": [
        "raw_images = []\n",
        "images = []\n",
        "labels = []"
      ],
      "execution_count": 15,
      "outputs": []
    },
    {
      "cell_type": "code",
      "execution_count": 16,
      "metadata": {},
      "outputs": [],
      "source": [
        "# path to covid-19 dataset from https://github.com/ieee8023/covid-chestxray-dataset\n",
        "covid_image_path = './Dataset/covid-chestxray-dataset-master/images/' \n",
        "covid_csv_path = './Dataset/covid-chestxray-dataset-master/metadata.csv'\n",
        "\n",
        "# path to CellData\n",
        "xray_image_path = './Dataset/CellData/chest_xray/'\n",
        "\n",
        "# select COVID-19 x-rays from ieee dataset\n",
        "covid_csv = pd.read_csv(covid_csv_path, nrows=None)\n",
        "image_idx = (covid_csv[\"finding\"].str.contains(\"COVID-19\")) & (covid_csv[\"modality\"] == \"X-ray\") & (covid_csv[\"view\"] != \"L\")\n",
        "covid_csv = covid_csv[image_idx]\n",
        "\n",
        "# read COVID-19 images\n",
        "covid_image = []\n",
        "for filename in covid_csv['filename']:\n",
        "    imagefile=cv2.imread(covid_image_path + filename)\n",
        "    imagefile = cv2.resize(imagefile, (IMAGE_SIZE,IMAGE_SIZE)) \n",
        "    covid_image.append(imagefile)"
      ]
    },
    {
      "cell_type": "code",
      "metadata": {
        "id": "XwcStPw8KlgV",
        "colab_type": "code",
        "colab": {
          "base_uri": "https://localhost:8080/",
          "height": 88
        },
        "outputId": "32442c3b-20c8-456b-af2d-3b93cb382e17",
        "tags": []
      },
      "source": [
        "covid_image_path = './Dataset/COVID-figures/' \n",
        "files = os.listdir(covid_image_path)\n",
        "files.sort()\n",
        "\n",
        "for i in tqdm(range(len(files))):\n",
        "    filesname = covid_image_path + '/' + files[i]\n",
        "    if filesname == covid_image_path + '/.DS_Store':\n",
        "        continue\n",
        "    imagefile=cv2.imread(filesname)\n",
        "    imagefile = cv2.resize(imagefile, (IMAGE_SIZE,IMAGE_SIZE))\n",
        "    raw_images.append(imagefile)\n"
      ],
      "execution_count": 17,
      "outputs": [
        {
          "output_type": "stream",
          "name": "stderr",
          "text": "100%|██████████| 19/19 [00:00<00:00, 107.01it/s]\n"
        }
      ]
    },
    {
      "cell_type": "code",
      "metadata": {
        "id": "kn5lUGfw5tC4",
        "colab_type": "code",
        "colab": {}
      },
      "source": [
        "for raw_image in raw_images:\n",
        "    image = transforms.Compose(\n",
        "        [\n",
        "            transforms.ToTensor(),\n",
        "            transforms.Normalize(mean=[0.485, 0.456, 0.406], std=[0.229, 0.224, 0.225]),\n",
        "        ])(raw_image[..., ::-1].copy())\n",
        "    images.append(image)\n",
        "images = torch.stack(images).to(device)"
      ],
      "execution_count": 18,
      "outputs": []
    },
    {
      "cell_type": "code",
      "metadata": {
        "id": "WeSoMdbk5tC7",
        "colab_type": "code",
        "colab": {}
      },
      "source": [
        "classes = [0]*19"
      ],
      "execution_count": 19,
      "outputs": []
    },
    {
      "cell_type": "code",
      "metadata": {
        "id": "fMdtkp6X5tC_",
        "colab_type": "code",
        "colab": {}
      },
      "source": [
        "output_dir = './Results/Figures'"
      ],
      "execution_count": 20,
      "outputs": []
    },
    {
      "cell_type": "code",
      "metadata": {
        "id": "XpXzJZ7v5tDB",
        "colab_type": "code",
        "colab": {
          "base_uri": "https://localhost:8080/",
          "height": 391
        },
        "outputId": "5dc20eff-49f8-48f0-be35-9f2ec1754e44",
        "tags": []
      },
      "source": [
        "demo1(images, classes, model, 'layer4', arch=str(MODEL)+'Dropout'+str(DROPOUT)+'Class'+str(CLASSES)\\\n",
        "    , topk=1, output_dir=output_dir, device=device)"
      ],
      "execution_count": 21,
      "outputs": [
        {
          "output_type": "stream",
          "name": "stdout",
          "text": "Vanilla Backpropagation:\nDeconvolution:\nGrad-CAM/Guided Backpropagation/Guided Grad-CAM:\n\t#0: 0 (0.96925)\n\t#1: 0 (0.96870)\n\t#2: 0 (0.94866)\n\t#3: 0 (0.92420)\n\t#4: 0 (0.96583)\n\t#5: 0 (0.97642)\n\t#6: 0 (0.97675)\n\t#7: 0 (0.97299)\n\t#8: 0 (0.96035)\n\t#9: 0 (0.96719)\n\t#10: 0 (0.96837)\n\t#11: 0 (0.95423)\n\t#12: 0 (0.96328)\n\t#13: 0 (0.91436)\n\t#14: 0 (0.95198)\n\t#15: 0 (0.95437)\n\t#16: 0 (0.93540)\n\t#17: 0 (0.97562)\n\t#18: 0 (0.97244)\n"
        }
      ]
    },
    {
      "cell_type": "code",
      "metadata": {
        "id": "RuNfLyBH5tDD",
        "colab_type": "code",
        "colab": {}
      },
      "source": [
        "# demo3(images[:10], labels, model, stride = 2, n_batches = 64, arch=str(MODEL)+'Dropout'+str(DROPOUT)+'Class'+str(CLASSES),\\\n",
        "#      topk=1, output_dir=output_dir, device=device)"
      ],
      "execution_count": 22,
      "outputs": []
    }
  ]
}