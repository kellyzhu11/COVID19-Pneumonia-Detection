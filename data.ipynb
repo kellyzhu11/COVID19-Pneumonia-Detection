{
  "cells": [
    {
      "cell_type": "markdown",
      "metadata": {
        "id": "zwzSXVatnu0N",
        "colab_type": "text"
      },
      "source": [
        "# COVID-19 X-ray"
      ]
    },
    {
      "cell_type": "code",
      "metadata": {
        "id": "QZSR6Szgnu0O",
        "colab_type": "code",
        "colab": {}
      },
      "source": [
        "import pandas as pd\n",
        "import os\n",
        "import cv2\n",
        "import random\n",
        "import pickle\n",
        "\n",
        "from tqdm import tqdm"
      ],
      "execution_count": 30,
      "outputs": []
    },
    {
      "cell_type": "code",
      "metadata": {
        "id": "rUL6KbZTnu0S",
        "colab_type": "code",
        "colab": {}
      },
      "source": [
        "IMAGE_SIZE = 224\n",
        "CLASSES = 4\n",
        "if CLASSES == 4: \n",
        "    FOLD = 8\n",
        "    categories = [\"COVID-19\", \"Viral\", \"Bacterial\", \"Normal\"] # label: 0, 1, 2, 3\n",
        "\n",
        "else: \n",
        "    FOLD = 24\n",
        "    categories = [\"COVID-19\", \"non-COVID-19\"] # label: 0, 1"
      ],
      "execution_count": 44,
      "outputs": []
    },
    {
      "cell_type": "code",
      "metadata": {
        "id": "qRzOjS7_73W7",
        "colab_type": "code",
        "colab": {}
      },
      "source": [
        "# path to covid-19 dataset from https://github.com/ieee8023/covid-chestxray-dataset\n",
        "covid_image_path = './Dataset/covid-chestxray-dataset-master/images/' \n",
        "covid_csv_path = './Dataset/covid-chestxray-dataset-master/metadata.csv'\n",
        "\n",
        "# path to CellData\n",
        "xray_image_path = './Dataset/CellData/chest_xray/'\n",
        "\n",
        "# select COVID-19 x-rays from ieee dataset\n",
        "covid_csv = pd.read_csv(covid_csv_path, nrows=None)\n",
        "image_idx = (covid_csv[\"finding\"].str.contains(\"COVID-19\")) & (covid_csv[\"modality\"] == \"X-ray\") & (covid_csv[\"view\"] != \"L\")\n",
        "covid_csv = covid_csv[image_idx]\n",
        "\n",
        "# read COVID-19 images\n",
        "covid_image = []\n",
        "for filename in covid_csv['filename']:\n",
        "    imagefile=cv2.imread(covid_image_path + filename)\n",
        "    imagefile = cv2.resize(imagefile, (IMAGE_SIZE,IMAGE_SIZE)) \n",
        "    covid_image.append(imagefile)"
      ],
      "execution_count": 45,
      "outputs": []
    },
    {
      "cell_type": "code",
      "metadata": {
        "id": "aqSdYnzq3Vql",
        "colab_type": "code",
        "colab": {}
      },
      "source": [
        "# split train and test for COVID-19\n",
        "random.Random(0).shuffle(covid_image) # random seed: 0\n",
        "\n",
        "split_idx = 172\n",
        "\n",
        "covid19_image = {'train':[], 'test':[]}\n",
        "covid19_image['train'] = covid_image[:split_idx]\n",
        "covid19_image['test'] = covid_image[split_idx:]"
      ],
      "execution_count": 46,
      "outputs": []
    },
    {
      "cell_type": "code",
      "metadata": {
        "id": "dEKa6az2vu5r",
        "colab_type": "code",
        "outputId": "e3404c1c-413e-4812-8d89-ab50ee4e7b62",
        "colab": {
          "base_uri": "https://localhost:8080/",
          "height": 86
        },
        "tags": []
      },
      "source": [
        "# read x-ray images\n",
        "\n",
        "viral_image = {'train':[], 'test':[]}\n",
        "bacterial_image = {'train':[], 'test':[]}\n",
        "normal_image = {'train':[], 'test':[]}\n",
        "\n",
        "for label in [\"train\", \"test\"]:\n",
        "    for category in [\"NORMAL\", \"PNEUMONIA\"]:\n",
        "        dirs = xray_image_path + label + '/' + category\n",
        "        files = os.listdir(dirs)\n",
        "        for i in tqdm(range(len(files))):\n",
        "            filesname = dirs + '/' + files[i]\n",
        "            if filesname == dirs + '/.DS_Store':\n",
        "                continue\n",
        "            imagefile=cv2.imread(filesname)\n",
        "            imagefile = cv2.resize(imagefile, (IMAGE_SIZE,IMAGE_SIZE))\n",
        "            if category == \"NORMAL\":\n",
        "                normal_image[label].append(imagefile)\n",
        "            elif \"BACTERIA\" in filesname:\n",
        "                bacterial_image[label].append(imagefile)\n",
        "            else:\n",
        "                viral_image[label].append(imagefile)"
      ],
      "execution_count": 47,
      "outputs": [
        {
          "output_type": "stream",
          "name": "stderr",
          "text": "100%|██████████| 1349/1349 [00:25<00:00, 53.65it/s]\n100%|██████████| 3884/3884 [00:23<00:00, 164.56it/s]\n100%|██████████| 235/235 [00:03<00:00, 59.27it/s]\n100%|██████████| 390/390 [00:02<00:00, 193.06it/s]\n"
        }
      ]
    },
    {
      "cell_type": "code",
      "execution_count": 48,
      "metadata": {},
      "outputs": [],
      "source": [
        "# Gather trainset and testset\n",
        "covid19_image['train'] *= FOLD\n",
        "\n",
        "train_image = covid19_image['train'] + viral_image['train']\\\n",
        "    + bacterial_image['train'] + normal_image['train']\n",
        "\n",
        "test_image = covid19_image['test'] + viral_image['test'] \\\n",
        "    + bacterial_image['test'] + normal_image['test']\n",
        "\n",
        "train_label = [0]*len(covid19_image['train']) + [1]*len(viral_image['train'])\\\n",
        "    + [2]*len(bacterial_image['train']) + [3]*len(normal_image['train'])\n",
        "\n",
        "test_label = [0]*len(covid19_image['test']) + [1]*len(viral_image['test'])\\\n",
        "    + [2]*len(bacterial_image['test']) + [3]*len(normal_image['test'])"
      ]
    },
    {
      "cell_type": "code",
      "execution_count": 49,
      "metadata": {},
      "outputs": [],
      "source": [
        "if CLASSES == 2:\n",
        "    train_label = [e if e == 0 else 1 for e in train_label]\n",
        "    test_label = [e if e == 0 else 1 for e in test_label]"
      ]
    },
    {
      "cell_type": "code",
      "metadata": {
        "id": "QWkv6sPfyiOd",
        "colab_type": "code",
        "colab": {}
      },
      "source": [
        "data = {'train image':[], 'train label':[],\n",
        "        'test image':[], 'test label':[]}"
      ],
      "execution_count": 50,
      "outputs": []
    },
    {
      "cell_type": "code",
      "metadata": {
        "id": "qpYVWusbscSw",
        "colab_type": "code",
        "outputId": "fd320417-1551-42a5-f397-4293ef424375",
        "colab": {
          "base_uri": "https://localhost:8080/",
          "height": 52
        },
        "tags": []
      },
      "source": [
        "train_counts = {categories[i]: sum([e == i for e in train_label]) for i in range(len(categories))}\n",
        "test_counts = {categories[i]: sum([e == i for e in test_label]) for i in range(len(categories))}\n",
        "\n",
        "print(train_counts)\n",
        "print(test_counts)"
      ],
      "execution_count": 51,
      "outputs": [
        {
          "output_type": "stream",
          "name": "stdout",
          "text": "{'COVID-19': 1376, 'Viral': 1345, 'Bacterial': 2538, 'Normal': 1349}\n{'COVID-19': 60, 'Viral': 148, 'Bacterial': 242, 'Normal': 234}\n"
        }
      ]
    },
    {
      "cell_type": "code",
      "execution_count": 52,
      "metadata": {},
      "outputs": [],
      "source": [
        "train_image_label_pair = list(zip(train_image, train_label))\n",
        "test_image_label_pair = list(zip(test_image, test_label))"
      ]
    },
    {
      "cell_type": "code",
      "execution_count": 53,
      "metadata": {},
      "outputs": [],
      "source": [
        "random.Random(0).shuffle(train_image_label_pair) # random seed: 0\n",
        "random.Random(0).shuffle(test_image_label_pair) # random seed: 0"
      ]
    },
    {
      "cell_type": "code",
      "execution_count": 54,
      "metadata": {},
      "outputs": [],
      "source": [
        "train_image, train_label = zip(*train_image_label_pair)\n",
        "test_image, test_label = zip(*test_image_label_pair)"
      ]
    },
    {
      "cell_type": "code",
      "execution_count": 55,
      "metadata": {},
      "outputs": [],
      "source": [
        "data['train image'] = list(train_image)\n",
        "data['train label'] = list(train_label)\n",
        "data['test image'] = list(test_image)\n",
        "data['test label'] = list(test_label)"
      ]
    },
    {
      "cell_type": "code",
      "metadata": {
        "id": "Vk7yGxrNIiZC",
        "colab_type": "code",
        "colab": {}
      },
      "source": [
        "with open('./Dataset/data'+str(IMAGE_SIZE)+'Class'+str(CLASSES)+'.pkl', 'wb') as f:\n",
        "  pickle.dump(data,f)\n",
        "  f.close()"
      ],
      "execution_count": 56,
      "outputs": []
    },
    {
      "cell_type": "code",
      "metadata": {
        "id": "JjCscIyrvP3w",
        "colab_type": "code",
        "colab": {}
      },
      "source": [
        ""
      ],
      "execution_count": 0,
      "outputs": []
    }
  ],
  "metadata": {
    "kernelspec": {
      "name": "python_defaultSpec_1595998992080",
      "display_name": "Python 3.6.9 64-bit (conda)"
    },
    "language_info": {
      "codemirror_mode": {
        "name": "ipython",
        "version": 3
      },
      "file_extension": ".py",
      "mimetype": "text/x-python",
      "name": "python",
      "nbconvert_exporter": "python",
      "pygments_lexer": "ipython3",
      "version": "3.6.9-final"
    },
    "colab": {
      "name": "read_data_balanced.ipynb",
      "provenance": [],
      "collapsed_sections": [],
      "machine_shape": "hm"
    },
    "accelerator": "GPU"
  },
  "nbformat": 4,
  "nbformat_minor": 0
}